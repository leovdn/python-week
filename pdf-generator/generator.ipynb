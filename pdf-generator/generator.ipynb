{
 "cells": [
  {
   "cell_type": "code",
   "execution_count": 1,
   "metadata": {},
   "outputs": [],
   "source": [
    "project = input(\"Insert the project description: \")\n",
    "estimate_hours = input(\"Insert the estimated hours: \")\n",
    "hourly_rate = input(\"Insert the hourly rate: \")\n",
    "estimate_deadline = input(\"Insert the estimate deadline: \")\n",
    "\n",
    "total_estimate = int(estimate_hours) * int(hourly_rate)"
   ]
  },
  {
   "cell_type": "markdown",
   "metadata": {},
   "source": [
    "#### Generate PDF"
   ]
  },
  {
   "cell_type": "code",
   "execution_count": null,
   "metadata": {},
   "outputs": [],
   "source": [
    "from fpdf import FPDF\n",
    "\n",
    "pdf = FPDF()\n",
    "pdf.add_page()\n",
    "pdf.set_font(\"Arial\")\n",
    "\n",
    "pdf.image(\"template.png\", x=0, y=0)\n",
    "\n",
    "pdf.text(115, 145, project)\n",
    "pdf.text(115, 160, estimate_hours)\n",
    "pdf.text(115, 175, hourly_rate)\n",
    "pdf.text(115, 190, estimate_deadline)\n",
    "pdf.text(115, 205, str(total_estimate))\n",
    "\n",
    "pdf.output(\"Project_Budget.pdf\")\n",
    "print(\"PDF created successfully!\")"
   ]
  }
 ],
 "metadata": {
  "kernelspec": {
   "display_name": "Python 3",
   "language": "python",
   "name": "python3"
  },
  "language_info": {
   "codemirror_mode": {
    "name": "ipython",
    "version": 3
   },
   "file_extension": ".py",
   "mimetype": "text/x-python",
   "name": "python",
   "nbconvert_exporter": "python",
   "pygments_lexer": "ipython3",
   "version": "3.11.4"
  }
 },
 "nbformat": 4,
 "nbformat_minor": 2
}
